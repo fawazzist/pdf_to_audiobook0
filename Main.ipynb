{
 "cells": [
  {
   "cell_type": "code",
   "execution_count": 12,
   "metadata": {},
   "outputs": [],
   "source": [
    "import pyttsx3\n",
    "import PyPDF2\n",
    "\n",
    "speaker = pyttsx3.init()"
   ]
  },
  {
   "cell_type": "code",
   "execution_count": 14,
   "metadata": {},
   "outputs": [],
   "source": [
    "book = open('Career-in-Data-Science-Ultimate-Guide.pdf' ,'rb')\n",
    "pdfReader = PyPDF2.PdfFileReader(book)"
   ]
  },
  {
   "cell_type": "code",
   "execution_count": 15,
   "metadata": {},
   "outputs": [
    {
     "data": {
      "text/plain": [
       "33"
      ]
     },
     "execution_count": 15,
     "metadata": {},
     "output_type": "execute_result"
    }
   ],
   "source": [
    "pages = pdfReader.numPages"
   ]
  },
  {
   "cell_type": "code",
   "execution_count": 18,
   "metadata": {},
   "outputs": [
    {
     "data": {
      "text/plain": [
       "'2Introduction by the AuthorOver the past few years, I™ve received hundreds of messages from our students asking for career \\nadvice. Some of them came from recent college graduates with no professional experience \\n\\n\\ntransferable skills and land a job in business intelligence or data science. And others still Œ from \\n\\nschedule with admirable commitment to transferring into data science. At 365, we are dedicated \\nto helping all our students reach their data science goals, regardless of their background, work \\n\\ncareer aspect of data science I™ve always felt compelled to address. \\nSo, I wrote this guide for you, the aspiring data science professional. No matter where you are \\n\\nskills, explore your options, decide and act to pursue the best career choice for you. I™ve spoken \\nto experts, spent hundreds of hours reading the relevant literature, and, together with the 365 \\nteam, conducted research and analyses of the many job options available in data science. How \\nto get a job in data science? What are the top 5 data science career opportunities to explore? \\n\\n\\n\\nscience. It outlines the education and skills you need and, hopefully, illuminates your path to a \\n\\neveryone.\\nI hope you™ll refer to this guide often and I welcome you to keep writing to us. We are here to \\nhelp you every step of the way as you progress through your data science career. \\nIliya Valchanov\\n\\nStarting a Career in Data Science: Ultimate Guide\\n'"
      ]
     },
     "execution_count": 18,
     "metadata": {},
     "output_type": "execute_result"
    }
   ],
   "source": [
    "for num in range(7, pages):\n",
    "    page = pdfReader.getPage(num)\n",
    "    text = page.extractText()\n",
    "    speaker.say(text)\n",
    "    speaker.runAndWait()"
   ]
  },
  {
   "cell_type": "code",
   "execution_count": 20,
   "metadata": {},
   "outputs": [],
   "source": []
  },
  {
   "cell_type": "code",
   "execution_count": 8,
   "metadata": {},
   "outputs": [],
   "source": []
  },
  {
   "cell_type": "code",
   "execution_count": null,
   "metadata": {},
   "outputs": [],
   "source": []
  }
 ],
 "metadata": {
  "kernelspec": {
   "display_name": "Python 3",
   "language": "python",
   "name": "python3"
  },
  "language_info": {
   "codemirror_mode": {
    "name": "ipython",
    "version": 3
   },
   "file_extension": ".py",
   "mimetype": "text/x-python",
   "name": "python",
   "nbconvert_exporter": "python",
   "pygments_lexer": "ipython3",
   "version": "3.8.3"
  }
 },
 "nbformat": 4,
 "nbformat_minor": 4
}
